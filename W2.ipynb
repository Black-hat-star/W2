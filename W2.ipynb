{
 "cells": [
  {
   "cell_type": "code",
   "execution_count": null,
   "id": "3c7c3abd-01f1-4001-99b9-ae8043ceba58",
   "metadata": {},
   "outputs": [],
   "source": [
    "#Q1) we can comment code in python through hash tag or triple colon\n",
    "\"\"\"the different types of comment in python are single and multi line comment \n",
    "single comment comments only single line whereas multiline comment comments mutliple lines"
   ]
  },
  {
   "cell_type": "code",
   "execution_count": null,
   "id": "bd23a3d9-0e57-4ed6-b807-4e2a309038cb",
   "metadata": {},
   "outputs": [],
   "source": [
    "\"\"\"Q2)variables in python is used for storing some data\n",
    "We can declare a variable through normal alphabets with no special characters allowed except for underscore(_)\n",
    "e.g  raj_at=24"
   ]
  },
  {
   "cell_type": "code",
   "execution_count": 5,
   "id": "fa7fcf8a-e53a-49cd-97b2-d4b7da69b6e9",
   "metadata": {},
   "outputs": [
    {
     "name": "stdout",
     "output_type": "stream",
     "text": [
      "<class 'float'>\n",
      "<class 'str'>\n"
     ]
    }
   ],
   "source": [
    "\"\"\"Q3)we can convert data in python in two ways\n",
    "i)implicit conversion :-where conversion take place through its own\n",
    "ii)explicit conversion:-where the user have to convert the data\"\"\"\n",
    "a=5.0\n",
    "b=1\n",
    "c=a/b\n",
    "print(type(c))\n",
    "x=10\n",
    "s=str(x)\n",
    "print(type(s))"
   ]
  },
  {
   "cell_type": "code",
   "execution_count": null,
   "id": "42ba27f8-0731-4d42-873f-bf3d8c94e560",
   "metadata": {},
   "outputs": [],
   "source": [
    "\"\"\"Q4)first of all we can write the code and can press enter if its a simple operation"
   ]
  },
  {
   "cell_type": "code",
   "execution_count": 7,
   "id": "2c81918e-5eb6-409f-a1fd-5fcffa8c0fb2",
   "metadata": {},
   "outputs": [
    {
     "name": "stdout",
     "output_type": "stream",
     "text": [
      "[2, 3]\n"
     ]
    }
   ],
   "source": [
    "#q5)\n",
    "l=[1,2,3,4,5]\n",
    "print(l[1:3])"
   ]
  },
  {
   "cell_type": "code",
   "execution_count": null,
   "id": "7c0be1f9-cabe-4a8e-8285-54dcafa26bbd",
   "metadata": {},
   "outputs": [],
   "source": [
    "\"\"\"Q6)complex number in mathematics represents part of both \n",
    "real and imaginary in python we can repressent it in the \n",
    "form of a+ bj"
   ]
  },
  {
   "cell_type": "code",
   "execution_count": null,
   "id": "d7e714fa-9b90-479e-bea3-f5fce76803fb",
   "metadata": {},
   "outputs": [],
   "source": [
    "#q7)\n",
    "age=25"
   ]
  },
  {
   "cell_type": "code",
   "execution_count": 8,
   "id": "d5129616-aab8-4adb-9566-2bde0b44c912",
   "metadata": {},
   "outputs": [
    {
     "name": "stdout",
     "output_type": "stream",
     "text": [
      "<class 'float'>\n"
     ]
    }
   ],
   "source": [
    "#q8)\n",
    "price = 9.99\n",
    "print(type(price))"
   ]
  },
  {
   "cell_type": "code",
   "execution_count": 9,
   "id": "29a474b5-4a66-4df4-a25e-af8ac46122c8",
   "metadata": {},
   "outputs": [],
   "source": [
    "#q9)"
   ]
  },
  {
   "cell_type": "code",
   "execution_count": 15,
   "id": "a3daf522-4665-4bd3-b96c-c3fb9c532a6d",
   "metadata": {},
   "outputs": [
    {
     "name": "stdout",
     "output_type": "stream",
     "text": [
      "r\n",
      "a\n",
      "j\n",
      "a\n",
      "t\n",
      " \n",
      "s\n",
      "a\n",
      "r\n",
      "k\n",
      "a\n",
      "r\n"
     ]
    }
   ],
   "source": [
    "name = 'rajat sarkar'\n",
    "for i in name:\n",
    "    print(i)"
   ]
  },
  {
   "cell_type": "code",
   "execution_count": 18,
   "id": "39e4c771-611d-416e-8f05-10dfd53b6c2c",
   "metadata": {},
   "outputs": [
    {
     "name": "stdout",
     "output_type": "stream",
     "text": [
      "World\n"
     ]
    }
   ],
   "source": [
    "#q10)\n",
    "s='Hello,World!'\n",
    "print(s[6:11])"
   ]
  },
  {
   "cell_type": "code",
   "execution_count": null,
   "id": "110d918e-f1fb-475f-93f0-378ee1b24dbd",
   "metadata": {},
   "outputs": [],
   "source": [
    "#q11)\n",
    "is_student = True"
   ]
  }
 ],
 "metadata": {
  "kernelspec": {
   "display_name": "Python 3 (ipykernel)",
   "language": "python",
   "name": "python3"
  },
  "language_info": {
   "codemirror_mode": {
    "name": "ipython",
    "version": 3
   },
   "file_extension": ".py",
   "mimetype": "text/x-python",
   "name": "python",
   "nbconvert_exporter": "python",
   "pygments_lexer": "ipython3",
   "version": "3.10.8"
  }
 },
 "nbformat": 4,
 "nbformat_minor": 5
}
